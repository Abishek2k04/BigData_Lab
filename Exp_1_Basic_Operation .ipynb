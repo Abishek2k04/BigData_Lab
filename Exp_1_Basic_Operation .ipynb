{
 "cells": [
  {
   "cell_type": "code",
   "execution_count": 23,
   "id": "3a27d7f0-987f-47b4-a7eb-4a2461076064",
   "metadata": {},
   "outputs": [
    {
     "name": "stdout",
     "output_type": "stream",
     "text": [
      "Actual String : example\n",
      "Upper case EXAMPLE\n",
      "Lower Case example\n",
      "slice a\n",
      "Reverse elpmaxe\n"
     ]
    }
   ],
   "source": [
    "def string_operation():\n",
    "    string=\"example\"\n",
    "    print(\"Actual String :\",string)\n",
    "    print(\"Upper case\",string.upper())\n",
    "    print(\"Lower Case\",string.lower())\n",
    "    print(\"slice\",string[2])\n",
    "    print(\"Reverse\",string[::-1])\n",
    "\n",
    "string_operation()"
   ]
  },
  {
   "cell_type": "code",
   "execution_count": 24,
   "id": "ff4a2493-579a-4924-9786-625e7429e63d",
   "metadata": {},
   "outputs": [
    {
     "name": "stdout",
     "output_type": "stream",
     "text": [
      "list1 [1, 2, 3, 4, 5]\n",
      "Extend [1, 2, 3, 4, 5, 6, 7, 8, 9, 0]\n",
      "Adding [1, 2, 3, 4, 5, 6, 7, 8, 9, 0, 35]\n",
      "removing [6, 7, 8, 0]\n"
     ]
    }
   ],
   "source": [
    "def list_operation():\n",
    "    list1=[1,2,3,4,5]\n",
    "    list2=[6,7,8,9,0]\n",
    "    print(\"list1\",list1)\n",
    "    list1.extend(list2)\n",
    "    print(\"Extend\",list1)\n",
    "    list1.append(35)\n",
    "    print(\"Adding\",list1)\n",
    "    list2.remove(9)\n",
    "    print(\"removing\",list2)\n",
    "\n",
    "list_operation()"
   ]
  },
  {
   "cell_type": "code",
   "execution_count": 25,
   "id": "25e3891f-0f8c-4bae-8ed2-232871d3761e",
   "metadata": {},
   "outputs": [
    {
     "name": "stdout",
     "output_type": "stream",
     "text": [
      "Intersection {0, 1, 2, 3, 4, 5, 6, 7, 8, 9, 11, 23}\n",
      "Union set()\n",
      "Adding {1, 2, 3, 4, 5, 6, 25}\n",
      "Remove {0, 23, 7, 8, 9}\n"
     ]
    }
   ],
   "source": [
    "def set_operation():\n",
    "    set1={1,2,3,4,5,6}\n",
    "    set2={7,8,9,0,11,23}\n",
    "    print(\"Intersection\",set1|set2)\n",
    "    print(\"Union\",set1&set2)\n",
    "    set1.add(25)\n",
    "    set2.remove(11)\n",
    "    print(\"Adding\",set1)\n",
    "    print(\"Remove\",set2)\n",
    "\n",
    "set_operation()"
   ]
  },
  {
   "cell_type": "code",
   "execution_count": 26,
   "id": "43f079b1-bd6e-40e1-b1e0-058f111e653d",
   "metadata": {},
   "outputs": [
    {
     "name": "stdout",
     "output_type": "stream",
     "text": [
      "Tuples (10, 20, 30, 40, 50)\n",
      "Access Second Element : 20\n",
      "Length 5\n",
      "Last Element 50\n"
     ]
    }
   ],
   "source": [
    "def tuples_operation():\n",
    "    tuples=(10,20,30,40,50)\n",
    "    print(\"Tuples\",tuples)\n",
    "    print(\"Access Second Element :\",tuples[1])\n",
    "    print(\"Length\",len(tuples))\n",
    "    print(\"Last Element\",tuples[-1])\n",
    "\n",
    "tuples_operation()"
   ]
  }
 ],
 "metadata": {
  "kernelspec": {
   "display_name": "Python 3 (ipykernel)",
   "language": "python",
   "name": "python3"
  },
  "language_info": {
   "codemirror_mode": {
    "name": "ipython",
    "version": 3
   },
   "file_extension": ".py",
   "mimetype": "text/x-python",
   "name": "python",
   "nbconvert_exporter": "python",
   "pygments_lexer": "ipython3",
   "version": "3.9.21"
  }
 },
 "nbformat": 4,
 "nbformat_minor": 5
}
