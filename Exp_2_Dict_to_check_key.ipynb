{
 "cells": [
  {
   "cell_type": "code",
   "execution_count": 3,
   "id": "eab090f6-9ffd-4be5-aede-286cbe12ed54",
   "metadata": {},
   "outputs": [
    {
     "name": "stdin",
     "output_type": "stream",
     "text": [
      "Enter Te Key: city\n",
      "Ener Value for city salem\n"
     ]
    },
    {
     "name": "stdout",
     "output_type": "stream",
     "text": [
      "The city is add to the salem\n"
     ]
    },
    {
     "name": "stdin",
     "output_type": "stream",
     "text": [
      "Want to Add Key? (yes/no):  yes\n",
      "Enter Te Key: salary\n",
      "Ener Value for salary 3500\n"
     ]
    },
    {
     "name": "stdout",
     "output_type": "stream",
     "text": [
      "The salary is add to the 3500\n"
     ]
    },
    {
     "name": "stdin",
     "output_type": "stream",
     "text": [
      "Want to Add Key? (yes/no):  no\n"
     ]
    },
    {
     "name": "stdout",
     "output_type": "stream",
     "text": [
      "Exist\n",
      "\n",
      "Updated Dictionary {'Name': 'John', 'age': 56, 'city': 'salem', 'salary': '3500'}\n"
     ]
    }
   ],
   "source": [
    "my_dict={'Name':'John','age':56}\n",
    "\n",
    "def check_dict_key():\n",
    "    key=input(\"Enter Te Key:\")\n",
    "    value=input(f\"Ener Value for {key}\")\n",
    "\n",
    "    if key not in my_dict:\n",
    "        my_dict[key]=value\n",
    "        print(f\"The {key} is add to the {value}\")\n",
    "    else:\n",
    "        print(f\"the {key} is alredy Present on Dictionary\")\n",
    "\n",
    "check_dict_key()\n",
    "while True:\n",
    "    another_key = input(\"Want to Add Key? (yes/no): \").lower()\n",
    "\n",
    "    if another_key == \"yes\":\n",
    "        check_dict_key()\n",
    "    else:\n",
    "        print(\"Exist\")\n",
    "        break\n",
    "print(\"\\nUpdated Dictionary\",my_dict)"
   ]
  },
  {
   "cell_type": "code",
   "execution_count": null,
   "id": "26af7a96-196c-4c9d-ad10-b393facc3ae2",
   "metadata": {},
   "outputs": [],
   "source": []
  }
 ],
 "metadata": {
  "kernelspec": {
   "display_name": "Python 3 (ipykernel)",
   "language": "python",
   "name": "python3"
  },
  "language_info": {
   "codemirror_mode": {
    "name": "ipython",
    "version": 3
   },
   "file_extension": ".py",
   "mimetype": "text/x-python",
   "name": "python",
   "nbconvert_exporter": "python",
   "pygments_lexer": "ipython3",
   "version": "3.9.21"
  }
 },
 "nbformat": 4,
 "nbformat_minor": 5
}
