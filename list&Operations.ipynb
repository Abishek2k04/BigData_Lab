{
 "cells": [
  {
   "cell_type": "code",
   "execution_count": 5,
   "id": "1e8f3357-6929-4440-a852-c9e48ed51651",
   "metadata": {},
   "outputs": [
    {
     "name": "stdout",
     "output_type": "stream",
     "text": [
      "String Operation\n",
      "Actual_String : hitler\n",
      "Upper_Case : HITLER\n",
      "Lower_case : hitler\n",
      "Actual String : hitler\n",
      "Reverse String : reltih\n",
      "Substring : r\n"
     ]
    }
   ],
   "source": [
    "def string_operation():\n",
    "    print(\"String Operation\")\n",
    "    string=(\"hitler\")\n",
    "    print(\"Actual_String :\",string)\n",
    "    print(\"Upper_Case :\",string.upper())\n",
    "    print(\"Lower_case :\",string.lower())\n",
    "    print(\"Reverse String :\",string[::-1])\n",
    "    print(\"Substring :\",string[5])\n",
    "string_operation()"
   ]
  },
  {
   "cell_type": "code",
   "execution_count": 23,
   "id": "11395d23-2306-49f4-866d-ae660d1a8005",
   "metadata": {},
   "outputs": [
    {
     "name": "stdout",
     "output_type": "stream",
     "text": [
      "List_Operation\n",
      "[1, 2, 3, 4, 5, 45]\n",
      "[6, 8, 9, 0]\n",
      "Slice [3, 4, 5]\n",
      "Extend : [1, 2, 3, 4, 5, 45, 6, 8, 9, 0]\n"
     ]
    }
   ],
   "source": [
    "def list_operation():\n",
    "    print(\"List_Operation\")\n",
    "    list1=[1,2,3,4,5]\n",
    "    list2=[6,7,8,9,0]\n",
    "    list1.append(45)\n",
    "    print(list1)\n",
    "\n",
    "    list2.remove(7)\n",
    "    print(list2)\n",
    "\n",
    "    print(\"Slice\",list1[2:5])\n",
    "    list1.extend(list2)\n",
    "    print(\"Extend :\",list1)\n",
    "\n",
    "list_operation()"
   ]
  },
  {
   "cell_type": "code",
   "execution_count": 11,
   "id": "19546af4-ddde-4441-91ab-32df485e460c",
   "metadata": {},
   "outputs": [
    {
     "name": "stdout",
     "output_type": "stream",
     "text": [
      "Set_Operation\n",
      "Intersection : {1, 2, 3, 4, 5, 6, 7, 8, 10}\n",
      "Union : {2, 5}\n",
      "Adding in set1 : {1, 2, 3, 4, 5, 50}\n",
      "Remove in set2: {2, 6, 7, 8, 10}\n"
     ]
    }
   ],
   "source": [
    "def set_operation():\n",
    "    print(\"Set_Operation\")\n",
    "    set1={1,2,3,4,5,3}\n",
    "    set2={5,6,7,8,10,2}\n",
    "    print(\"Intersection :\",set1 | set2)\n",
    "    print(\"Union :\",set1&set2)\n",
    "    set1.add(50)\n",
    "    print(\"Adding in set1 :\",set1)\n",
    "    set2.remove(5)\n",
    "    print(\"Remove in set2:\",set2)\n",
    "set_operation()"
   ]
  },
  {
   "cell_type": "code",
   "execution_count": 20,
   "id": "eed063b9-9107-47dd-bb09-58e3c37f0733",
   "metadata": {},
   "outputs": [
    {
     "name": "stdout",
     "output_type": "stream",
     "text": [
      "Tuples_Operation\n",
      "Original Tuple: (10, 20, 40, 50)\n",
      "Access Second Element: 20\n",
      "Length Of Tuple1: 4\n",
      "First Element: 10\n",
      "Last Element: 50\n"
     ]
    }
   ],
   "source": [
    "def tuples_operation():\n",
    "    print(\"Tuples_Operation\")\n",
    "    tuple1=(10,20,40,50)\n",
    "    print(\"Original Tuple:\", tuple1)\n",
    "    print(\"Access Second Element:\",tuple1[1])\n",
    "    print(\"Length Of Tuple1:\",len(tuple1))\n",
    "    print(\"First Element:\", tuple1[0])\n",
    "    print(\"Last Element:\", tuple1[3])\n",
    "tuples_operation()    "
   ]
  },
  {
   "cell_type": "code",
   "execution_count": 24,
   "id": "77858316-d513-496e-99b7-f3c023e622ac",
   "metadata": {},
   "outputs": [
    {
     "name": "stdout",
     "output_type": "stream",
     "text": [
      "String Operation\n",
      "Actual_String : hitler\n",
      "Upper_Case : HITLER\n",
      "Lower_case : hitler\n",
      "Actual String : hitler\n",
      "Reverse String : reltih\n",
      "Substring : r\n",
      "**************\n",
      "List_Operation\n",
      "[1, 2, 3, 4, 5, 45]\n",
      "[6, 8, 9, 0]\n",
      "Slice [3, 4, 5]\n",
      "Extend : [1, 2, 3, 4, 5, 45, 6, 8, 9, 0]\n",
      "**************\n",
      "Set_Operation\n",
      "Intersection : {1, 2, 3, 4, 5, 6, 7, 8, 10}\n",
      "Union : {2, 5}\n",
      "Adding in set1 : {1, 2, 3, 4, 5, 50}\n",
      "Remove in set2: {2, 6, 7, 8, 10}\n",
      "**************\n",
      "Tuples_Operation\n",
      "Original Tuple: (10, 20, 40, 50)\n",
      "Access Second Element: 20\n",
      "Length Of Tuple1: 4\n",
      "First Element: 10\n",
      "Last Element: 50\n"
     ]
    }
   ],
   "source": [
    "string_operation()\n",
    "print(\"**************\")\n",
    "list_operation()\n",
    "print(\"**************\")\n",
    "set_operation()\n",
    "print(\"**************\")\n",
    "tuples_operation()"
   ]
  },
  {
   "cell_type": "code",
   "execution_count": null,
   "id": "46a731d4-385f-4868-8468-226e22b78f07",
   "metadata": {},
   "outputs": [],
   "source": []
  }
 ],
 "metadata": {
  "kernelspec": {
   "display_name": "Python 3 (ipykernel)",
   "language": "python",
   "name": "python3"
  },
  "language_info": {
   "codemirror_mode": {
    "name": "ipython",
    "version": 3
   },
   "file_extension": ".py",
   "mimetype": "text/x-python",
   "name": "python",
   "nbconvert_exporter": "python",
   "pygments_lexer": "ipython3",
   "version": "3.12.4"
  }
 },
 "nbformat": 4,
 "nbformat_minor": 5
}
